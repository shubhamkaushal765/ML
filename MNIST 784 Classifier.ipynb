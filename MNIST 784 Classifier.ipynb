{
 "cells": [
  {
   "cell_type": "code",
   "execution_count": 1,
   "id": "cf0a4ffd",
   "metadata": {},
   "outputs": [],
   "source": [
    "'''Downloaded from https://datahub.io/machine-learning/mnist_784#resource-mnist_784_zip'''\n",
    "# Reading data\n",
    "\n",
    "import numpy as np\n",
    "import pandas as pd\n",
    "import matplotlib.pyplot as plt\n",
    "import matplotlib as mpl\n",
    "\n",
    "dataset = pd.read_csv('data\\mnist_784_csv.csv')"
   ]
  },
  {
   "cell_type": "code",
   "execution_count": 2,
   "id": "5a51b9a9",
   "metadata": {},
   "outputs": [
    {
     "data": {
      "text/html": [
       "<div>\n",
       "<style scoped>\n",
       "    .dataframe tbody tr th:only-of-type {\n",
       "        vertical-align: middle;\n",
       "    }\n",
       "\n",
       "    .dataframe tbody tr th {\n",
       "        vertical-align: top;\n",
       "    }\n",
       "\n",
       "    .dataframe thead th {\n",
       "        text-align: right;\n",
       "    }\n",
       "</style>\n",
       "<table border=\"1\" class=\"dataframe\">\n",
       "  <thead>\n",
       "    <tr style=\"text-align: right;\">\n",
       "      <th></th>\n",
       "      <th>pixel1</th>\n",
       "      <th>pixel2</th>\n",
       "      <th>pixel3</th>\n",
       "      <th>pixel4</th>\n",
       "      <th>pixel5</th>\n",
       "      <th>pixel6</th>\n",
       "      <th>pixel7</th>\n",
       "      <th>pixel8</th>\n",
       "      <th>pixel9</th>\n",
       "      <th>pixel10</th>\n",
       "      <th>...</th>\n",
       "      <th>pixel775</th>\n",
       "      <th>pixel776</th>\n",
       "      <th>pixel777</th>\n",
       "      <th>pixel778</th>\n",
       "      <th>pixel779</th>\n",
       "      <th>pixel780</th>\n",
       "      <th>pixel781</th>\n",
       "      <th>pixel782</th>\n",
       "      <th>pixel783</th>\n",
       "      <th>pixel784</th>\n",
       "    </tr>\n",
       "  </thead>\n",
       "  <tbody>\n",
       "    <tr>\n",
       "      <th>0</th>\n",
       "      <td>0</td>\n",
       "      <td>0</td>\n",
       "      <td>0</td>\n",
       "      <td>0</td>\n",
       "      <td>0</td>\n",
       "      <td>0</td>\n",
       "      <td>0</td>\n",
       "      <td>0</td>\n",
       "      <td>0</td>\n",
       "      <td>0</td>\n",
       "      <td>...</td>\n",
       "      <td>0</td>\n",
       "      <td>0</td>\n",
       "      <td>0</td>\n",
       "      <td>0</td>\n",
       "      <td>0</td>\n",
       "      <td>0</td>\n",
       "      <td>0</td>\n",
       "      <td>0</td>\n",
       "      <td>0</td>\n",
       "      <td>0</td>\n",
       "    </tr>\n",
       "    <tr>\n",
       "      <th>1</th>\n",
       "      <td>0</td>\n",
       "      <td>0</td>\n",
       "      <td>0</td>\n",
       "      <td>0</td>\n",
       "      <td>0</td>\n",
       "      <td>0</td>\n",
       "      <td>0</td>\n",
       "      <td>0</td>\n",
       "      <td>0</td>\n",
       "      <td>0</td>\n",
       "      <td>...</td>\n",
       "      <td>0</td>\n",
       "      <td>0</td>\n",
       "      <td>0</td>\n",
       "      <td>0</td>\n",
       "      <td>0</td>\n",
       "      <td>0</td>\n",
       "      <td>0</td>\n",
       "      <td>0</td>\n",
       "      <td>0</td>\n",
       "      <td>0</td>\n",
       "    </tr>\n",
       "    <tr>\n",
       "      <th>2</th>\n",
       "      <td>0</td>\n",
       "      <td>0</td>\n",
       "      <td>0</td>\n",
       "      <td>0</td>\n",
       "      <td>0</td>\n",
       "      <td>0</td>\n",
       "      <td>0</td>\n",
       "      <td>0</td>\n",
       "      <td>0</td>\n",
       "      <td>0</td>\n",
       "      <td>...</td>\n",
       "      <td>0</td>\n",
       "      <td>0</td>\n",
       "      <td>0</td>\n",
       "      <td>0</td>\n",
       "      <td>0</td>\n",
       "      <td>0</td>\n",
       "      <td>0</td>\n",
       "      <td>0</td>\n",
       "      <td>0</td>\n",
       "      <td>0</td>\n",
       "    </tr>\n",
       "    <tr>\n",
       "      <th>3</th>\n",
       "      <td>0</td>\n",
       "      <td>0</td>\n",
       "      <td>0</td>\n",
       "      <td>0</td>\n",
       "      <td>0</td>\n",
       "      <td>0</td>\n",
       "      <td>0</td>\n",
       "      <td>0</td>\n",
       "      <td>0</td>\n",
       "      <td>0</td>\n",
       "      <td>...</td>\n",
       "      <td>0</td>\n",
       "      <td>0</td>\n",
       "      <td>0</td>\n",
       "      <td>0</td>\n",
       "      <td>0</td>\n",
       "      <td>0</td>\n",
       "      <td>0</td>\n",
       "      <td>0</td>\n",
       "      <td>0</td>\n",
       "      <td>0</td>\n",
       "    </tr>\n",
       "    <tr>\n",
       "      <th>4</th>\n",
       "      <td>0</td>\n",
       "      <td>0</td>\n",
       "      <td>0</td>\n",
       "      <td>0</td>\n",
       "      <td>0</td>\n",
       "      <td>0</td>\n",
       "      <td>0</td>\n",
       "      <td>0</td>\n",
       "      <td>0</td>\n",
       "      <td>0</td>\n",
       "      <td>...</td>\n",
       "      <td>0</td>\n",
       "      <td>0</td>\n",
       "      <td>0</td>\n",
       "      <td>0</td>\n",
       "      <td>0</td>\n",
       "      <td>0</td>\n",
       "      <td>0</td>\n",
       "      <td>0</td>\n",
       "      <td>0</td>\n",
       "      <td>0</td>\n",
       "    </tr>\n",
       "  </tbody>\n",
       "</table>\n",
       "<p>5 rows × 784 columns</p>\n",
       "</div>"
      ],
      "text/plain": [
       "   pixel1  pixel2  pixel3  pixel4  pixel5  pixel6  pixel7  pixel8  pixel9  \\\n",
       "0       0       0       0       0       0       0       0       0       0   \n",
       "1       0       0       0       0       0       0       0       0       0   \n",
       "2       0       0       0       0       0       0       0       0       0   \n",
       "3       0       0       0       0       0       0       0       0       0   \n",
       "4       0       0       0       0       0       0       0       0       0   \n",
       "\n",
       "   pixel10  ...  pixel775  pixel776  pixel777  pixel778  pixel779  pixel780  \\\n",
       "0        0  ...         0         0         0         0         0         0   \n",
       "1        0  ...         0         0         0         0         0         0   \n",
       "2        0  ...         0         0         0         0         0         0   \n",
       "3        0  ...         0         0         0         0         0         0   \n",
       "4        0  ...         0         0         0         0         0         0   \n",
       "\n",
       "   pixel781  pixel782  pixel783  pixel784  \n",
       "0         0         0         0         0  \n",
       "1         0         0         0         0  \n",
       "2         0         0         0         0  \n",
       "3         0         0         0         0  \n",
       "4         0         0         0         0  \n",
       "\n",
       "[5 rows x 784 columns]"
      ]
     },
     "execution_count": 2,
     "metadata": {},
     "output_type": "execute_result"
    }
   ],
   "source": [
    "# Seperating the train set and test set\n",
    "\n",
    "train_set, test_set = dataset[:60000], dataset[60000:]\n",
    "X_train, y_train = train_set.drop('class', axis=1), train_set['class']\n",
    "X_test, y_test = test_set.drop('class', axis=1), test_set['class']\n",
    "X_train.head()"
   ]
  },
  {
   "cell_type": "code",
   "execution_count": 3,
   "id": "5d8f7fb9",
   "metadata": {
    "scrolled": true
   },
   "outputs": [
    {
     "data": {
      "text/html": [
       "<div>\n",
       "<style scoped>\n",
       "    .dataframe tbody tr th:only-of-type {\n",
       "        vertical-align: middle;\n",
       "    }\n",
       "\n",
       "    .dataframe tbody tr th {\n",
       "        vertical-align: top;\n",
       "    }\n",
       "\n",
       "    .dataframe thead th {\n",
       "        text-align: right;\n",
       "    }\n",
       "</style>\n",
       "<table border=\"1\" class=\"dataframe\">\n",
       "  <thead>\n",
       "    <tr style=\"text-align: right;\">\n",
       "      <th></th>\n",
       "      <th>pixel1</th>\n",
       "      <th>pixel2</th>\n",
       "      <th>pixel3</th>\n",
       "      <th>pixel4</th>\n",
       "      <th>pixel5</th>\n",
       "      <th>pixel6</th>\n",
       "      <th>pixel7</th>\n",
       "      <th>pixel8</th>\n",
       "      <th>pixel9</th>\n",
       "      <th>pixel10</th>\n",
       "      <th>...</th>\n",
       "      <th>pixel775</th>\n",
       "      <th>pixel776</th>\n",
       "      <th>pixel777</th>\n",
       "      <th>pixel778</th>\n",
       "      <th>pixel779</th>\n",
       "      <th>pixel780</th>\n",
       "      <th>pixel781</th>\n",
       "      <th>pixel782</th>\n",
       "      <th>pixel783</th>\n",
       "      <th>pixel784</th>\n",
       "    </tr>\n",
       "  </thead>\n",
       "  <tbody>\n",
       "    <tr>\n",
       "      <th>count</th>\n",
       "      <td>60000.0</td>\n",
       "      <td>60000.0</td>\n",
       "      <td>60000.0</td>\n",
       "      <td>60000.0</td>\n",
       "      <td>60000.0</td>\n",
       "      <td>60000.0</td>\n",
       "      <td>60000.0</td>\n",
       "      <td>60000.0</td>\n",
       "      <td>60000.0</td>\n",
       "      <td>60000.0</td>\n",
       "      <td>...</td>\n",
       "      <td>60000.000000</td>\n",
       "      <td>60000.000000</td>\n",
       "      <td>60000.000000</td>\n",
       "      <td>60000.000000</td>\n",
       "      <td>60000.000000</td>\n",
       "      <td>60000.0000</td>\n",
       "      <td>60000.0</td>\n",
       "      <td>60000.0</td>\n",
       "      <td>60000.0</td>\n",
       "      <td>60000.0</td>\n",
       "    </tr>\n",
       "    <tr>\n",
       "      <th>mean</th>\n",
       "      <td>0.0</td>\n",
       "      <td>0.0</td>\n",
       "      <td>0.0</td>\n",
       "      <td>0.0</td>\n",
       "      <td>0.0</td>\n",
       "      <td>0.0</td>\n",
       "      <td>0.0</td>\n",
       "      <td>0.0</td>\n",
       "      <td>0.0</td>\n",
       "      <td>0.0</td>\n",
       "      <td>...</td>\n",
       "      <td>0.200433</td>\n",
       "      <td>0.088867</td>\n",
       "      <td>0.045633</td>\n",
       "      <td>0.019283</td>\n",
       "      <td>0.015117</td>\n",
       "      <td>0.0020</td>\n",
       "      <td>0.0</td>\n",
       "      <td>0.0</td>\n",
       "      <td>0.0</td>\n",
       "      <td>0.0</td>\n",
       "    </tr>\n",
       "    <tr>\n",
       "      <th>std</th>\n",
       "      <td>0.0</td>\n",
       "      <td>0.0</td>\n",
       "      <td>0.0</td>\n",
       "      <td>0.0</td>\n",
       "      <td>0.0</td>\n",
       "      <td>0.0</td>\n",
       "      <td>0.0</td>\n",
       "      <td>0.0</td>\n",
       "      <td>0.0</td>\n",
       "      <td>0.0</td>\n",
       "      <td>...</td>\n",
       "      <td>6.042472</td>\n",
       "      <td>3.956189</td>\n",
       "      <td>2.839845</td>\n",
       "      <td>1.686770</td>\n",
       "      <td>1.678283</td>\n",
       "      <td>0.3466</td>\n",
       "      <td>0.0</td>\n",
       "      <td>0.0</td>\n",
       "      <td>0.0</td>\n",
       "      <td>0.0</td>\n",
       "    </tr>\n",
       "    <tr>\n",
       "      <th>min</th>\n",
       "      <td>0.0</td>\n",
       "      <td>0.0</td>\n",
       "      <td>0.0</td>\n",
       "      <td>0.0</td>\n",
       "      <td>0.0</td>\n",
       "      <td>0.0</td>\n",
       "      <td>0.0</td>\n",
       "      <td>0.0</td>\n",
       "      <td>0.0</td>\n",
       "      <td>0.0</td>\n",
       "      <td>...</td>\n",
       "      <td>0.000000</td>\n",
       "      <td>0.000000</td>\n",
       "      <td>0.000000</td>\n",
       "      <td>0.000000</td>\n",
       "      <td>0.000000</td>\n",
       "      <td>0.0000</td>\n",
       "      <td>0.0</td>\n",
       "      <td>0.0</td>\n",
       "      <td>0.0</td>\n",
       "      <td>0.0</td>\n",
       "    </tr>\n",
       "    <tr>\n",
       "      <th>25%</th>\n",
       "      <td>0.0</td>\n",
       "      <td>0.0</td>\n",
       "      <td>0.0</td>\n",
       "      <td>0.0</td>\n",
       "      <td>0.0</td>\n",
       "      <td>0.0</td>\n",
       "      <td>0.0</td>\n",
       "      <td>0.0</td>\n",
       "      <td>0.0</td>\n",
       "      <td>0.0</td>\n",
       "      <td>...</td>\n",
       "      <td>0.000000</td>\n",
       "      <td>0.000000</td>\n",
       "      <td>0.000000</td>\n",
       "      <td>0.000000</td>\n",
       "      <td>0.000000</td>\n",
       "      <td>0.0000</td>\n",
       "      <td>0.0</td>\n",
       "      <td>0.0</td>\n",
       "      <td>0.0</td>\n",
       "      <td>0.0</td>\n",
       "    </tr>\n",
       "    <tr>\n",
       "      <th>50%</th>\n",
       "      <td>0.0</td>\n",
       "      <td>0.0</td>\n",
       "      <td>0.0</td>\n",
       "      <td>0.0</td>\n",
       "      <td>0.0</td>\n",
       "      <td>0.0</td>\n",
       "      <td>0.0</td>\n",
       "      <td>0.0</td>\n",
       "      <td>0.0</td>\n",
       "      <td>0.0</td>\n",
       "      <td>...</td>\n",
       "      <td>0.000000</td>\n",
       "      <td>0.000000</td>\n",
       "      <td>0.000000</td>\n",
       "      <td>0.000000</td>\n",
       "      <td>0.000000</td>\n",
       "      <td>0.0000</td>\n",
       "      <td>0.0</td>\n",
       "      <td>0.0</td>\n",
       "      <td>0.0</td>\n",
       "      <td>0.0</td>\n",
       "    </tr>\n",
       "    <tr>\n",
       "      <th>75%</th>\n",
       "      <td>0.0</td>\n",
       "      <td>0.0</td>\n",
       "      <td>0.0</td>\n",
       "      <td>0.0</td>\n",
       "      <td>0.0</td>\n",
       "      <td>0.0</td>\n",
       "      <td>0.0</td>\n",
       "      <td>0.0</td>\n",
       "      <td>0.0</td>\n",
       "      <td>0.0</td>\n",
       "      <td>...</td>\n",
       "      <td>0.000000</td>\n",
       "      <td>0.000000</td>\n",
       "      <td>0.000000</td>\n",
       "      <td>0.000000</td>\n",
       "      <td>0.000000</td>\n",
       "      <td>0.0000</td>\n",
       "      <td>0.0</td>\n",
       "      <td>0.0</td>\n",
       "      <td>0.0</td>\n",
       "      <td>0.0</td>\n",
       "    </tr>\n",
       "    <tr>\n",
       "      <th>max</th>\n",
       "      <td>0.0</td>\n",
       "      <td>0.0</td>\n",
       "      <td>0.0</td>\n",
       "      <td>0.0</td>\n",
       "      <td>0.0</td>\n",
       "      <td>0.0</td>\n",
       "      <td>0.0</td>\n",
       "      <td>0.0</td>\n",
       "      <td>0.0</td>\n",
       "      <td>0.0</td>\n",
       "      <td>...</td>\n",
       "      <td>254.000000</td>\n",
       "      <td>254.000000</td>\n",
       "      <td>253.000000</td>\n",
       "      <td>253.000000</td>\n",
       "      <td>254.000000</td>\n",
       "      <td>62.0000</td>\n",
       "      <td>0.0</td>\n",
       "      <td>0.0</td>\n",
       "      <td>0.0</td>\n",
       "      <td>0.0</td>\n",
       "    </tr>\n",
       "  </tbody>\n",
       "</table>\n",
       "<p>8 rows × 784 columns</p>\n",
       "</div>"
      ],
      "text/plain": [
       "        pixel1   pixel2   pixel3   pixel4   pixel5   pixel6   pixel7   pixel8  \\\n",
       "count  60000.0  60000.0  60000.0  60000.0  60000.0  60000.0  60000.0  60000.0   \n",
       "mean       0.0      0.0      0.0      0.0      0.0      0.0      0.0      0.0   \n",
       "std        0.0      0.0      0.0      0.0      0.0      0.0      0.0      0.0   \n",
       "min        0.0      0.0      0.0      0.0      0.0      0.0      0.0      0.0   \n",
       "25%        0.0      0.0      0.0      0.0      0.0      0.0      0.0      0.0   \n",
       "50%        0.0      0.0      0.0      0.0      0.0      0.0      0.0      0.0   \n",
       "75%        0.0      0.0      0.0      0.0      0.0      0.0      0.0      0.0   \n",
       "max        0.0      0.0      0.0      0.0      0.0      0.0      0.0      0.0   \n",
       "\n",
       "        pixel9  pixel10  ...      pixel775      pixel776      pixel777  \\\n",
       "count  60000.0  60000.0  ...  60000.000000  60000.000000  60000.000000   \n",
       "mean       0.0      0.0  ...      0.200433      0.088867      0.045633   \n",
       "std        0.0      0.0  ...      6.042472      3.956189      2.839845   \n",
       "min        0.0      0.0  ...      0.000000      0.000000      0.000000   \n",
       "25%        0.0      0.0  ...      0.000000      0.000000      0.000000   \n",
       "50%        0.0      0.0  ...      0.000000      0.000000      0.000000   \n",
       "75%        0.0      0.0  ...      0.000000      0.000000      0.000000   \n",
       "max        0.0      0.0  ...    254.000000    254.000000    253.000000   \n",
       "\n",
       "           pixel778      pixel779    pixel780  pixel781  pixel782  pixel783  \\\n",
       "count  60000.000000  60000.000000  60000.0000   60000.0   60000.0   60000.0   \n",
       "mean       0.019283      0.015117      0.0020       0.0       0.0       0.0   \n",
       "std        1.686770      1.678283      0.3466       0.0       0.0       0.0   \n",
       "min        0.000000      0.000000      0.0000       0.0       0.0       0.0   \n",
       "25%        0.000000      0.000000      0.0000       0.0       0.0       0.0   \n",
       "50%        0.000000      0.000000      0.0000       0.0       0.0       0.0   \n",
       "75%        0.000000      0.000000      0.0000       0.0       0.0       0.0   \n",
       "max      253.000000    254.000000     62.0000       0.0       0.0       0.0   \n",
       "\n",
       "       pixel784  \n",
       "count   60000.0  \n",
       "mean        0.0  \n",
       "std         0.0  \n",
       "min         0.0  \n",
       "25%         0.0  \n",
       "50%         0.0  \n",
       "75%         0.0  \n",
       "max         0.0  \n",
       "\n",
       "[8 rows x 784 columns]"
      ]
     },
     "execution_count": 3,
     "metadata": {},
     "output_type": "execute_result"
    }
   ],
   "source": [
    "# checking for dimensionality reduction\n",
    "\n",
    "X_train.describe()"
   ]
  },
  {
   "cell_type": "code",
   "execution_count": 4,
   "id": "297e3678",
   "metadata": {},
   "outputs": [
    {
     "data": {
      "text/plain": [
       "0"
      ]
     },
     "execution_count": 4,
     "metadata": {},
     "output_type": "execute_result"
    }
   ],
   "source": [
    "# checking for NULL values\n",
    "\n",
    "X_train.isna().any().sum()"
   ]
  },
  {
   "cell_type": "code",
   "execution_count": 40,
   "id": "9f415950",
   "metadata": {
    "scrolled": false
   },
   "outputs": [
    {
     "data": {
      "image/png": "[encoded data removed]",
      "text/plain": [
       "<Figure size 432x288 with 9 Axes>"
      ]
     },
     "metadata": {
      "needs_background": "light"
     },
     "output_type": "display_data"
    }
   ],
   "source": [
    "# plotting and visualization of data\n",
    "\n",
    "length = 3\n",
    "def plot_digit(X=X_train, length=length, title='Digits in MNIST'):\n",
    "    fig, ax = plt.subplots(length, length)\n",
    "    fig.suptitle(title)\n",
    "    X = np.array(X)\n",
    "    for i in range(length*length):\n",
    "        some_digit = X[i].reshape(28,28)\n",
    "        ax[i//length, i%length].imshow(some_digit, cmap=mpl.cm.binary, interpolation='nearest')\n",
    "        ax[i//length, i%length].axis('off')\n",
    "    plt.show()\n",
    "plot_digit()"
   ]
  },
  {
   "cell_type": "code",
   "execution_count": 6,
   "id": "1ada37e0",
   "metadata": {},
   "outputs": [],
   "source": [
    "# linear models generally prefer scaled data: zero mean and unit std\n",
    "from sklearn.preprocessing import StandardScaler\n",
    "\n",
    "scaler = StandardScaler()\n",
    "X_train_scaled = scaler.fit_transform(X_train)"
   ]
  },
  {
   "cell_type": "markdown",
   "id": "4e85cc91",
   "metadata": {},
   "source": [
    "## Training ML models\n"
   ]
  },
  {
   "cell_type": "code",
   "execution_count": 7,
   "id": "5d7f2c8e",
   "metadata": {},
   "outputs": [],
   "source": [
    "from sklearn.model_selection import cross_val_score\n",
    "from sklearn.linear_model import ElasticNet\n",
    "from sklearn.linear_model import SGDClassifier\n",
    "from sklearn.neighbors import KNeighborsClassifier\n",
    "from sklearn.ensemble import RandomForestClassifier\n",
    "from sklearn.ensemble import AdaBoostClassifier\n",
    "from sklearn.tree import DecisionTreeClassifier\n",
    "\n",
    "names = []\n",
    "scores = []"
   ]
  },
  {
   "cell_type": "code",
   "execution_count": 8,
   "id": "f769b379",
   "metadata": {},
   "outputs": [
    {
     "name": "stderr",
     "output_type": "stream",
     "text": [
      "[Parallel(n_jobs=1)]: Using backend SequentialBackend with 1 concurrent workers.\n"
     ]
    },
    {
     "name": "stdout",
     "output_type": "stream",
     "text": [
      "[CV] END .................................................... total time=   3.8s\n"
     ]
    },
    {
     "name": "stderr",
     "output_type": "stream",
     "text": [
      "[Parallel(n_jobs=1)]: Done   1 out of   1 | elapsed:    3.8s remaining:    0.0s\n"
     ]
    },
    {
     "name": "stdout",
     "output_type": "stream",
     "text": [
      "[CV] END .................................................... total time=   3.6s\n",
      "[CV] END .................................................... total time=   3.3s\n",
      "[0.60455422 0.60139803 0.60825701]\n"
     ]
    },
    {
     "name": "stderr",
     "output_type": "stream",
     "text": [
      "[Parallel(n_jobs=1)]: Done   3 out of   3 | elapsed:   11.0s finished\n"
     ]
    }
   ],
   "source": [
    "# ElasticNet Classifier\n",
    "# Default: l1_ratio=0.5, alpha=1\n",
    "\n",
    "elastic_clf = ElasticNet(alpha=0.1, l1_ratio=0.1)\n",
    "scores_elastic = cross_val_score(elastic_clf, X_train_scaled, y_train, cv=3, verbose=2)\n",
    "scores.append(scores_elastic)\n",
    "names.append(elastic_clf.__class__.__name__)\n",
    "\n",
    "print(scores_elastic)\n",
    "\n",
    "# unscaled training set: cv_score [0.60423415 0.60304879 0.60856128], time to train ~ 25s each iteration\n",
    "#   scaled training set: cv_score [0.60455422 0.60139803 0.60825701], time to train ~ 4s each iteration"
   ]
  },
  {
   "cell_type": "code",
   "execution_count": 9,
   "id": "4893746d",
   "metadata": {},
   "outputs": [
    {
     "name": "stderr",
     "output_type": "stream",
     "text": [
      "[Parallel(n_jobs=1)]: Using backend SequentialBackend with 1 concurrent workers.\n"
     ]
    },
    {
     "name": "stdout",
     "output_type": "stream",
     "text": [
      "[CV] END .................................................... total time=   7.4s\n"
     ]
    },
    {
     "name": "stderr",
     "output_type": "stream",
     "text": [
      "[Parallel(n_jobs=1)]: Done   1 out of   1 | elapsed:    7.5s remaining:    0.0s\n"
     ]
    },
    {
     "name": "stdout",
     "output_type": "stream",
     "text": [
      "[CV] END .................................................... total time=   7.3s\n",
      "[CV] END .................................................... total time=   7.8s\n",
      "[0.88605 0.88655 0.8931 ]\n"
     ]
    },
    {
     "name": "stderr",
     "output_type": "stream",
     "text": [
      "[Parallel(n_jobs=1)]: Done   3 out of   3 | elapsed:   22.9s finished\n"
     ]
    }
   ],
   "source": [
    "# SGD Classifier\n",
    "# Default: loss='hinge', penalty='l2', alpha=0.001, max_iter=1000\n",
    "\n",
    "sgd_clf = SGDClassifier(alpha=0.1, max_iter=200)\n",
    "scores_sgd = cross_val_score(sgd_clf, X_train_scaled, y_train, cv=3, verbose=2)\n",
    "scores.append(scores_sgd)\n",
    "names.append(sgd_clf.__class__.__name__)\n",
    "\n",
    "print(scores_sgd)\n",
    "\n",
    "# unscaled training set: cv_score [0.87595 0.86075 0.8845 ], time to train ~ 1.8 minutes each iteration\n",
    "#   scaled training set: cv_score [0.88285 0.87235 0.8936 ], time to train ~ 9.3s each iteration"
   ]
  },
  {
   "cell_type": "code",
   "execution_count": 10,
   "id": "4272b3c0",
   "metadata": {},
   "outputs": [
    {
     "name": "stderr",
     "output_type": "stream",
     "text": [
      "[Parallel(n_jobs=1)]: Using backend SequentialBackend with 1 concurrent workers.\n"
     ]
    },
    {
     "name": "stdout",
     "output_type": "stream",
     "text": [
      "[CV] END .................................................... total time=  39.6s\n"
     ]
    },
    {
     "name": "stderr",
     "output_type": "stream",
     "text": [
      "[Parallel(n_jobs=1)]: Done   1 out of   1 | elapsed:   39.6s remaining:    0.0s\n"
     ]
    },
    {
     "name": "stdout",
     "output_type": "stream",
     "text": [
      "[CV] END .................................................... total time=  38.7s\n",
      "[CV] END .................................................... total time=  39.8s\n",
      "[0.9676  0.9671  0.96755]\n"
     ]
    },
    {
     "name": "stderr",
     "output_type": "stream",
     "text": [
      "[Parallel(n_jobs=1)]: Done   3 out of   3 | elapsed:  2.0min finished\n"
     ]
    }
   ],
   "source": [
    "# K Neighbors Classifier\n",
    "# Default: leaf_size=30, n_neighbors=5\n",
    "\n",
    "knn = KNeighborsClassifier()\n",
    "scores_knn = cross_val_score(knn, X_train, y_train, cv=3, verbose=2)\n",
    "scores.append(scores_knn)\n",
    "names.append(knn.__class__.__name__)\n",
    "\n",
    "print(scores_knn)\n",
    "\n",
    "# unscaled training set: cv_score [0.9676 0.9671 0.9675], time to train ~ 58s each iteration\n",
    "#   scaled training set: cv_score [0.9376 0.9411 0.9424], time to train ~ 45s each iteration"
   ]
  },
  {
   "cell_type": "code",
   "execution_count": 11,
   "id": "42c1be66",
   "metadata": {},
   "outputs": [
    {
     "name": "stderr",
     "output_type": "stream",
     "text": [
      "[Parallel(n_jobs=1)]: Using backend SequentialBackend with 1 concurrent workers.\n"
     ]
    },
    {
     "name": "stdout",
     "output_type": "stream",
     "text": [
      "[CV] END .................................................... total time=  32.1s\n"
     ]
    },
    {
     "name": "stderr",
     "output_type": "stream",
     "text": [
      "[Parallel(n_jobs=1)]: Done   1 out of   1 | elapsed:   32.1s remaining:    0.0s\n"
     ]
    },
    {
     "name": "stdout",
     "output_type": "stream",
     "text": [
      "[CV] END .................................................... total time=  31.4s\n",
      "[CV] END .................................................... total time=  32.1s\n",
      "[0.9646  0.96255 0.9666 ]\n"
     ]
    },
    {
     "name": "stderr",
     "output_type": "stream",
     "text": [
      "[Parallel(n_jobs=1)]: Done   3 out of   3 | elapsed:  1.6min finished\n"
     ]
    }
   ],
   "source": [
    "# Random Forest Classifier\n",
    "# Default: n_estimators=100\n",
    "\n",
    "forest_clf = RandomForestClassifier(random_state=42)\n",
    "scores_rnd = cross_val_score(forest_clf, X_train, y_train, cv=3, verbose=2)\n",
    "scores.append(scores_rnd)\n",
    "names.append(forest_clf.__class__.__name__)\n",
    "\n",
    "print(scores_rnd)\n",
    "# unscaled training set: cv_score [0.9646  0.96255 0.9666 ], time to train ~ 36s each iteration\n",
    "#   scaled training set: cv_score [0.96445 0.96255 0.96645], time to train ~ 41s each iteration"
   ]
  },
  {
   "cell_type": "code",
   "execution_count": 12,
   "id": "1ef37e37",
   "metadata": {},
   "outputs": [
    {
     "name": "stderr",
     "output_type": "stream",
     "text": [
      "[Parallel(n_jobs=1)]: Using backend SequentialBackend with 1 concurrent workers.\n"
     ]
    },
    {
     "name": "stdout",
     "output_type": "stream",
     "text": [
      "[CV] END .................................................... total time= 1.0min\n"
     ]
    },
    {
     "name": "stderr",
     "output_type": "stream",
     "text": [
      "[Parallel(n_jobs=1)]: Done   1 out of   1 | elapsed:  1.0min remaining:    0.0s\n"
     ]
    },
    {
     "name": "stdout",
     "output_type": "stream",
     "text": [
      "[CV] END .................................................... total time= 1.0min\n",
      "[CV] END .................................................... total time= 1.1min\n",
      "[0.82975 0.8096  0.8267 ]\n"
     ]
    },
    {
     "name": "stderr",
     "output_type": "stream",
     "text": [
      "[Parallel(n_jobs=1)]: Done   3 out of   3 | elapsed:  3.2min finished\n"
     ]
    }
   ],
   "source": [
    "# Ada Boost Classifier\n",
    "# Default: n_estimators=50, algorithm='SAMME.R', learning_rate=1\n",
    "\n",
    "ada_clf = AdaBoostClassifier(\n",
    "                        DecisionTreeClassifier(max_depth=5), n_estimators=20,\n",
    "                        algorithm=\"SAMME.R\", learning_rate=1)\n",
    "scores_ada = cross_val_score(ada_clf, X_train, y_train, cv=3, verbose=2)\n",
    "names.append(ada_clf.__class__.__name__)\n",
    "scores.append(scores_ada)\n",
    "\n",
    "print(scores_ada)\n",
    "\n",
    "# Scaled: [0.8302  0.81015 0.8272 ], 2 min\n",
    "# unscaled: [0.8301  0.8099  0.82715], 1.4 min"
   ]
  },
  {
   "cell_type": "markdown",
   "id": "608a0381",
   "metadata": {},
   "source": [
    "## Comparing Accuracy of different models"
   ]
  },
  {
   "cell_type": "code",
   "execution_count": 13,
   "id": "cf85b28b",
   "metadata": {},
   "outputs": [
    {
     "data": {
      "image/png": "[encoded data removed]",
      "text/plain": [
       "<Figure size 432x288 with 1 Axes>"
      ]
     },
     "metadata": {
      "needs_background": "light"
     },
     "output_type": "display_data"
    },
    {
     "name": "stdout",
     "output_type": "stream",
     "text": [
      "NOTE: Errorbar (blackline at the tip of the barplot) is scaled 10 times the actual value for better insight.\n"
     ]
    }
   ],
   "source": [
    "val_mean = [score.mean() for score in scores]\n",
    "val_std = [score.std()*10 for score in scores]\n",
    "\n",
    "data = np.array([val_mean, val_std]).T\n",
    "data = data*100\n",
    "df = pd.DataFrame(data, index=names, columns=['mean', 'std'])\n",
    "df.plot(kind='barh', y='mean', xerr='std', label='',\n",
    "        color='lightgreen', title='Accuracy of different Classifiers')\n",
    "\n",
    "plt.axvline(x=95, label='95% line', linestyle='--')\n",
    "plt.axvline(x=90, label='90% line')\n",
    "plt.legend(bbox_to_anchor = (1, 1))\n",
    "plt.xlabel('Accuracy (%)')\n",
    "for index, value in enumerate(val_mean):\n",
    "    plt.text(45, index, str(round(value*100, 1))+'%')\n",
    "plt.show()\n",
    "print(\"NOTE: Errorbar (blackline at the tip of the barplot) \\\n",
    "is scaled 10 times the actual value for better insight.\")"
   ]
  },
  {
   "cell_type": "markdown",
   "id": "d9b5bcfb",
   "metadata": {},
   "source": [
    "## Confusion Matrix"
   ]
  },
  {
   "cell_type": "code",
   "execution_count": 14,
   "id": "a7f80154",
   "metadata": {},
   "outputs": [],
   "source": [
    "from sklearn.model_selection import cross_val_predict\n",
    "from sklearn.metrics import confusion_matrix\n",
    "\n",
    "y_pred_knn = cross_val_predict(knn, X_train, y_train, cv=3)\n",
    "y_pred_rnd = cross_val_predict(forest_clf, X_train, y_train, cv=3)"
   ]
  },
  {
   "cell_type": "code",
   "execution_count": 15,
   "id": "cd36555a",
   "metadata": {},
   "outputs": [
    {
     "data": {
      "image/png": "[encoded data removed]",
      "text/plain": [
       "<Figure size 864x432 with 2 Axes>"
      ]
     },
     "metadata": {
      "needs_background": "light"
     },
     "output_type": "display_data"
    }
   ],
   "source": [
    "# Confusion Matrix\n",
    "\n",
    "confusion_knn = confusion_matrix(y_train, y_pred_knn)\n",
    "confusion_rnd = confusion_matrix(y_train, y_pred_rnd)\n",
    "fig, ax = plt.subplots(1, 2, figsize=(12, 6))\n",
    "ax[0].matshow(confusion_knn, cmap=plt.cm.gray)\n",
    "ax[1].matshow(confusion_rnd, cmap=plt.cm.gray)\n",
    "ax[0].set_title('KNeighborsClassifier')\n",
    "ax[1].set_title('RandomForestClassifier')\n",
    "fig.suptitle('Confusion Matrix')\n",
    "plt.show()"
   ]
  },
  {
   "cell_type": "code",
   "execution_count": 16,
   "id": "c090e72b",
   "metadata": {},
   "outputs": [
    {
     "data": {
      "image/png": "[encoded data removed]",
      "text/plain": [
       "<Figure size 864x432 with 2 Axes>"
      ]
     },
     "metadata": {
      "needs_background": "light"
     },
     "output_type": "display_data"
    },
    {
     "name": "stdout",
     "output_type": "stream",
     "text": [
      "NOTE: Row represents actual classes, while columns represent predicted classes.\n"
     ]
    }
   ],
   "source": [
    "# Confusion Matrix (only the incorrect classified images)\n",
    "\n",
    "fig, ax = plt.subplots(1, 2, figsize=(12, 6))\n",
    "\n",
    "row_sums = confusion_knn.sum(axis=1, keepdims=True)\n",
    "norm_knn = confusion_knn / row_sums\n",
    "np.fill_diagonal(norm_knn, 0)\n",
    "ax[0].matshow(norm_knn, cmap=plt.cm.gray)\n",
    "ax[0].set_title('KNeighborsClassifier')\n",
    "\n",
    "row_sums = confusion_rnd.sum(axis=1, keepdims=True)\n",
    "norm_rnd = confusion_rnd / row_sums\n",
    "np.fill_diagonal(norm_rnd, 0)\n",
    "ax[1].matshow(norm_rnd, cmap=plt.cm.gray)\n",
    "ax[1].set_title('RandomForestClassifier')\n",
    "\n",
    "fig.suptitle('Confusion Matrix')\n",
    "plt.show()\n",
    "print('NOTE: Row represents actual classes, while columns represent predicted classes.')"
   ]
  },
  {
   "cell_type": "code",
   "execution_count": 42,
   "id": "20fb2f0f",
   "metadata": {
    "scrolled": true
   },
   "outputs": [
    {
     "data": {
      "image/png": "[encoded data removed]",
      "text/plain": [
       "<Figure size 432x288 with 9 Axes>"
      ]
     },
     "metadata": {
      "needs_background": "light"
     },
     "output_type": "display_data"
    }
   ],
   "source": [
    "# in both the cases a lot of 4s were mislabelled as 9.\n",
    "\n",
    "real_class = 8\n",
    "labeled_class = 5\n",
    "X_mislabeled = X_train[(y_train==real_class) & (y_pred_knn==labeled_class)]\n",
    "plot_digit(X=X_mislabeled, title='KNeighborsClassifier '+str(real_class)+'-as-'+str(labeled_class))"
   ]
  },
  {
   "cell_type": "code",
   "execution_count": 43,
   "id": "49c456b0",
   "metadata": {},
   "outputs": [
    {
     "data": {
      "image/png": "[encoded data removed]",
      "text/plain": [
       "<Figure size 432x288 with 9 Axes>"
      ]
     },
     "metadata": {
      "needs_background": "light"
     },
     "output_type": "display_data"
    }
   ],
   "source": [
    "# RandomForestClassifier labels a lot of 3s as 2s.\n",
    "\n",
    "real_class = 3\n",
    "labeled_class = 2\n",
    "X_mislabeled = X_train[(y_train==real_class) & (y_pred_rnd==labeled_class)]\n",
    "plot_digit(X=X_mislabeled, title='RandomForestClassifier '+str(real_class)+'-as-'+str(labeled_class))"
   ]
  },
  {
   "cell_type": "markdown",
   "id": "99acd394",
   "metadata": {},
   "source": [
    "## GridSearchCV for Hyperparameter Tuning"
   ]
  },
  {
   "cell_type": "code",
   "execution_count": 19,
   "id": "c90d5a50",
   "metadata": {
    "scrolled": true
   },
   "outputs": [
    {
     "name": "stdout",
     "output_type": "stream",
     "text": [
      "Fitting 3 folds for each of 2 candidates, totalling 6 fits\n",
      "[CV] END ....................................weights=uniform; total time=  39.2s\n",
      "[CV] END ....................................weights=uniform; total time=  39.6s\n",
      "[CV] END ....................................weights=uniform; total time=  39.5s\n",
      "[CV] END ...................................weights=distance; total time=  38.2s\n",
      "[CV] END ...................................weights=distance; total time=  37.9s\n",
      "[CV] END ...................................weights=distance; total time=  39.8s\n"
     ]
    },
    {
     "data": {
      "text/plain": [
       "GridSearchCV(cv=3, estimator=KNeighborsClassifier(),\n",
       "             param_grid=[{'weights': ['uniform', 'distance']}],\n",
       "             return_train_score=True, scoring='accuracy', verbose=2)"
      ]
     },
     "execution_count": 19,
     "metadata": {},
     "output_type": "execute_result"
    }
   ],
   "source": [
    "''' Model Selected: KneighborsClassifier\n",
    "    Tuning individual parameters        '''\n",
    "# weights\n",
    "\n",
    "from sklearn.model_selection import GridSearchCV\n",
    "\n",
    "parameters = [\n",
    "    {\n",
    "    'weights': ['uniform', 'distance']}\n",
    "]\n",
    "knn = KNeighborsClassifier()\n",
    "grid_search = GridSearchCV(knn, parameters, cv=3, scoring='accuracy', return_train_score=True, \n",
    "                           verbose=2)\n",
    "grid_search.fit(X_train, y_train)"
   ]
  },
  {
   "cell_type": "code",
   "execution_count": 20,
   "id": "0ef1f2cb",
   "metadata": {},
   "outputs": [],
   "source": [
    "results_weights = grid_search.cv_results_"
   ]
  },
  {
   "cell_type": "code",
   "execution_count": 21,
   "id": "17780ba5",
   "metadata": {},
   "outputs": [
    {
     "name": "stdout",
     "output_type": "stream",
     "text": [
      "Fitting 3 folds for each of 2 candidates, totalling 6 fits\n",
      "[CV] END ....................n_neighbors=5, weights=distance; total time=  39.4s\n",
      "[CV] END ....................n_neighbors=5, weights=distance; total time=  37.8s\n",
      "[CV] END ....................n_neighbors=5, weights=distance; total time=  38.4s\n",
      "[CV] END ....................n_neighbors=8, weights=distance; total time=  37.8s\n",
      "[CV] END ....................n_neighbors=8, weights=distance; total time=  37.3s\n",
      "[CV] END ....................n_neighbors=8, weights=distance; total time=  38.7s\n"
     ]
    },
    {
     "data": {
      "text/plain": [
       "GridSearchCV(cv=3, estimator=KNeighborsClassifier(),\n",
       "             param_grid=[{'n_neighbors': [5, 8], 'weights': ['distance']}],\n",
       "             return_train_score=True, scoring='accuracy', verbose=2)"
      ]
     },
     "execution_count": 21,
     "metadata": {},
     "output_type": "execute_result"
    }
   ],
   "source": [
    "# n_neighbors\n",
    "\n",
    "parameters = [\n",
    "    {\n",
    "    'n_neighbors': [5, 8],\n",
    "    'weights':['distance']}\n",
    "]\n",
    "knn = KNeighborsClassifier()\n",
    "grid_search = GridSearchCV(knn, parameters, cv=3, scoring='accuracy', return_train_score=True, \n",
    "                           verbose=2)\n",
    "grid_search.fit(X_train, y_train)"
   ]
  },
  {
   "cell_type": "code",
   "execution_count": 22,
   "id": "4c8bc5c7",
   "metadata": {
    "scrolled": true
   },
   "outputs": [],
   "source": [
    "results_n = grid_search.cv_results_"
   ]
  },
  {
   "cell_type": "code",
   "execution_count": 23,
   "id": "55d2f192",
   "metadata": {
    "scrolled": true
   },
   "outputs": [
    {
     "name": "stdout",
     "output_type": "stream",
     "text": [
      "Fitting 3 folds for each of 2 candidates, totalling 6 fits\n",
      "[CV] END ......leaf_size=30, n_neighbors=5, weights=distance; total time=  38.0s\n",
      "[CV] END ......leaf_size=30, n_neighbors=5, weights=distance; total time=  44.2s\n",
      "[CV] END ......leaf_size=30, n_neighbors=5, weights=distance; total time=  44.3s\n",
      "[CV] END ......leaf_size=50, n_neighbors=5, weights=distance; total time=  43.2s\n",
      "[CV] END ......leaf_size=50, n_neighbors=5, weights=distance; total time=  43.5s\n",
      "[CV] END ......leaf_size=50, n_neighbors=5, weights=distance; total time=  43.4s\n"
     ]
    },
    {
     "data": {
      "text/plain": [
       "GridSearchCV(cv=3, estimator=KNeighborsClassifier(),\n",
       "             param_grid=[{'leaf_size': [30, 50], 'n_neighbors': [5],\n",
       "                          'weights': ['distance']}],\n",
       "             return_train_score=True, scoring='accuracy', verbose=2)"
      ]
     },
     "execution_count": 23,
     "metadata": {},
     "output_type": "execute_result"
    }
   ],
   "source": [
    "# leaf_size\n",
    "\n",
    "parameters = [\n",
    "    {\n",
    "    'leaf_size': [30, 50],\n",
    "    'n_neighbors': [5],\n",
    "    'weights':['distance']}\n",
    "]\n",
    "knn = KNeighborsClassifier()\n",
    "grid_search = GridSearchCV(knn, parameters, cv=3, scoring='accuracy', return_train_score=True, \n",
    "                           verbose=2)\n",
    "grid_search.fit(X_train, y_train)"
   ]
  },
  {
   "cell_type": "code",
   "execution_count": 24,
   "id": "6cb5070c",
   "metadata": {},
   "outputs": [],
   "source": [
    "results_leaf = grid_search.cv_results_"
   ]
  },
  {
   "cell_type": "markdown",
   "id": "d7d9a3cf",
   "metadata": {},
   "source": [
    "## Comparing Different Hyperparameters of KNeighborsClassifier Model"
   ]
  },
  {
   "cell_type": "code",
   "execution_count": 25,
   "id": "61edac14",
   "metadata": {
    "scrolled": false
   },
   "outputs": [
    {
     "data": {
      "image/png": "[encoded data removed]",
      "text/plain": [
       "<Figure size 432x288 with 1 Axes>"
      ]
     },
     "metadata": {
      "needs_background": "light"
     },
     "output_type": "display_data"
    }
   ],
   "source": [
    "# Hyparameter Tuning\n",
    "\n",
    "cols = ['weights: \"uniform | distance\"', 'n_neighbors: \"5 | 8\"', 'leaf_size: \"30 | 50\"']\n",
    "val= [results_weights['mean_test_score'], results_n['mean_test_score'], results_leaf['mean_test_score']]\n",
    "for i in range(len(val)):\n",
    "    val[i]=np.array(val[i])/sum(val[i])*100\n",
    "\n",
    "df = pd.DataFrame(val, cols)\n",
    "df.plot(kind='barh', stacked=True)\n",
    "plt.axvline(x=50, label='50% line', linestyle='--')\n",
    "plt.xlim(49.8, 50.2)\n",
    "plt.legend().remove()\n",
    "plt.show()"
   ]
  },
  {
   "cell_type": "markdown",
   "id": "117b6c12",
   "metadata": {},
   "source": [
    "## Final error score for KneighborsClassifier"
   ]
  },
  {
   "cell_type": "code",
   "execution_count": 26,
   "id": "86f504cc",
   "metadata": {
    "scrolled": true
   },
   "outputs": [
    {
     "name": "stderr",
     "output_type": "stream",
     "text": [
      "[Parallel(n_jobs=1)]: Using backend SequentialBackend with 1 concurrent workers.\n"
     ]
    },
    {
     "name": "stdout",
     "output_type": "stream",
     "text": [
      "[CV] END .................................................... total time=  43.2s\n"
     ]
    },
    {
     "name": "stderr",
     "output_type": "stream",
     "text": [
      "[Parallel(n_jobs=1)]: Done   1 out of   1 | elapsed:   43.3s remaining:    0.0s\n"
     ]
    },
    {
     "name": "stdout",
     "output_type": "stream",
     "text": [
      "[CV] END .................................................... total time=  48.3s\n",
      "[CV] END .................................................... total time=  48.8s\n",
      "[0.9688  0.96795 0.96905]\n"
     ]
    },
    {
     "name": "stderr",
     "output_type": "stream",
     "text": [
      "[Parallel(n_jobs=1)]: Done   3 out of   3 | elapsed:  2.3min finished\n"
     ]
    }
   ],
   "source": [
    "# KNeighborsClassifier with Hyperparameters\n",
    "\n",
    "knn_final = KNeighborsClassifier(weights='distance', n_neighbors=5, leaf_size=30)\n",
    "scores_knn_final = cross_val_score(knn_final, X_train, y_train, cv=3, verbose=2)\n",
    "print(scores_knn_final)"
   ]
  },
  {
   "cell_type": "markdown",
   "id": "402af80d",
   "metadata": {},
   "source": [
    "## Predictions on Test Data"
   ]
  },
  {
   "cell_type": "code",
   "execution_count": 27,
   "id": "c44a4cee",
   "metadata": {},
   "outputs": [
    {
     "name": "stdout",
     "output_type": "stream",
     "text": [
      "Accuracy on the Test data: 0.9691\n"
     ]
    }
   ],
   "source": [
    "# Prediction accuracy\n",
    "\n",
    "knn_final.fit(X_train, y_train)\n",
    "y_pred = knn_final.predict(X_test)\n",
    "\n",
    "from sklearn.metrics import accuracy_score\n",
    "\n",
    "print('Accuracy on the Test data:', accuracy_score(y_test, y_pred))"
   ]
  },
  {
   "cell_type": "markdown",
   "id": "da6ed4e7",
   "metadata": {},
   "source": [
    "# Further Improving Accuracy"
   ]
  },
  {
   "cell_type": "markdown",
   "id": "5c3985c3",
   "metadata": {},
   "source": [
    "## Data Augmentation"
   ]
  },
  {
   "cell_type": "code",
   "execution_count": 28,
   "id": "cec17823",
   "metadata": {},
   "outputs": [],
   "source": [
    "# Defining custom functions to shift the images\n",
    "\n",
    "X_copy = X_train.copy()\n",
    "def right(n, X = X_copy):\n",
    "    X = X.copy()\n",
    "    for i in range(28):\n",
    "        for j in range(28-n):\n",
    "            X.iloc[:, i*28+(27-j)] = X.iloc[:, i*28+(27-j-n)]\n",
    "        for j in range(n):\n",
    "            X.iloc[:, i*28+j] = 0\n",
    "    return X\n",
    "\n",
    "def left(n, X = X_copy):\n",
    "    X = X.copy()\n",
    "    for i in range(28):\n",
    "        for j in range(28-n):\n",
    "            X.iloc[:, i*28+j] = X.iloc[:, i*28+j+n]\n",
    "        for j in range(n):\n",
    "            X.iloc[:, i*28+(27-j)] = 0\n",
    "    return X\n",
    "            \n",
    "def down(n, X = X_copy):\n",
    "    X = X.copy()\n",
    "    for i in range(28):\n",
    "        for j in range(28-n):\n",
    "            X.iloc[:, 28*(27-j)+i] = X.iloc[:, 28*(27-j-n)+i]\n",
    "        for j in range(n):\n",
    "            X.iloc[:, 28*j+i] = 0\n",
    "    return X\n",
    "\n",
    "def up(n, X = X_copy):\n",
    "    X = X.copy()\n",
    "    for i in range(28):\n",
    "        for j in range(28-n):\n",
    "            X.iloc[:, 28*j+i] = X.iloc[:, 28*(j+n)+i]\n",
    "        for j in range(n):\n",
    "            X.iloc[:, 28*(27-j)+i] = 0\n",
    "    return X"
   ]
  },
  {
   "cell_type": "code",
   "execution_count": 29,
   "id": "35fcb4f4",
   "metadata": {
    "scrolled": false
   },
   "outputs": [
    {
     "data": {
      "image/png": "[encoded data removed]",
      "text/plain": [
       "<Figure size 432x288 with 4 Axes>"
      ]
     },
     "metadata": {
      "needs_background": "light"
     },
     "output_type": "display_data"
    }
   ],
   "source": [
    "# checking the shifting functions\n",
    "\n",
    "length=1\n",
    "fig, ax = plt.subplots(2, 2)\n",
    "Xr = np.array(right(10, X_copy.iloc[0:2]))\n",
    "Xl = np.array(left(10, X_copy.iloc[0:2]))\n",
    "Xu = np.array(up(10, X_copy.iloc[0:2]))\n",
    "Xd = np.array(down(10, X_copy.iloc[0:2]))\n",
    "\n",
    "some_digit = Xr[1].reshape(28,28)\n",
    "ax[0, 0].imshow(some_digit, cmap=mpl.cm.binary, interpolation='nearest')\n",
    "ax[0, 0].axis('off')\n",
    "ax[0, 0].title.set_text('Right')\n",
    "\n",
    "some_digit = Xl[1].reshape(28,28)\n",
    "ax[0, 1].imshow(some_digit, cmap=mpl.cm.binary, interpolation='nearest')\n",
    "ax[0, 1].axis('off')\n",
    "ax[0, 1].title.set_text('Left')\n",
    "\n",
    "some_digit = Xu[1].reshape(28,28)\n",
    "ax[1, 0].imshow(some_digit, cmap=mpl.cm.binary, interpolation='nearest')\n",
    "ax[1, 0].axis('off')\n",
    "ax[1, 0].title.set_text('Up')\n",
    "\n",
    "some_digit = Xd[1].reshape(28,28)\n",
    "ax[1, 1].imshow(some_digit, cmap=mpl.cm.binary, interpolation='nearest')\n",
    "ax[1, 1].axis('off')\n",
    "ax[1, 1].title.set_text('Down')\n",
    "plt.show()"
   ]
  },
  {
   "cell_type": "code",
   "execution_count": 30,
   "id": "aef20a7d",
   "metadata": {},
   "outputs": [],
   "source": [
    "# Shifting the images and appending it to the training set\n",
    "\n",
    "X_left = left(1)\n",
    "X_right = right(1)\n",
    "X_up = up(1)\n",
    "X_down = down(1)\n",
    "X_train_aug = pd.concat([X_train, X_left, X_right, X_up, X_down], ignore_index=True)"
   ]
  },
  {
   "cell_type": "code",
   "execution_count": 31,
   "id": "4c56b5fb",
   "metadata": {
    "scrolled": false
   },
   "outputs": [
    {
     "data": {
      "text/html": [
       "<div>\n",
       "<style scoped>\n",
       "    .dataframe tbody tr th:only-of-type {\n",
       "        vertical-align: middle;\n",
       "    }\n",
       "\n",
       "    .dataframe tbody tr th {\n",
       "        vertical-align: top;\n",
       "    }\n",
       "\n",
       "    .dataframe thead th {\n",
       "        text-align: right;\n",
       "    }\n",
       "</style>\n",
       "<table border=\"1\" class=\"dataframe\">\n",
       "  <thead>\n",
       "    <tr style=\"text-align: right;\">\n",
       "      <th></th>\n",
       "      <th>pixel1</th>\n",
       "      <th>pixel2</th>\n",
       "      <th>pixel3</th>\n",
       "      <th>pixel4</th>\n",
       "      <th>pixel5</th>\n",
       "      <th>pixel6</th>\n",
       "      <th>pixel7</th>\n",
       "      <th>pixel8</th>\n",
       "      <th>pixel9</th>\n",
       "      <th>pixel10</th>\n",
       "      <th>...</th>\n",
       "      <th>pixel775</th>\n",
       "      <th>pixel776</th>\n",
       "      <th>pixel777</th>\n",
       "      <th>pixel778</th>\n",
       "      <th>pixel779</th>\n",
       "      <th>pixel780</th>\n",
       "      <th>pixel781</th>\n",
       "      <th>pixel782</th>\n",
       "      <th>pixel783</th>\n",
       "      <th>pixel784</th>\n",
       "    </tr>\n",
       "  </thead>\n",
       "  <tbody>\n",
       "    <tr>\n",
       "      <th>0</th>\n",
       "      <td>0</td>\n",
       "      <td>0</td>\n",
       "      <td>0</td>\n",
       "      <td>0</td>\n",
       "      <td>0</td>\n",
       "      <td>0</td>\n",
       "      <td>0</td>\n",
       "      <td>0</td>\n",
       "      <td>0</td>\n",
       "      <td>0</td>\n",
       "      <td>...</td>\n",
       "      <td>0</td>\n",
       "      <td>0</td>\n",
       "      <td>0</td>\n",
       "      <td>0</td>\n",
       "      <td>0</td>\n",
       "      <td>0</td>\n",
       "      <td>0</td>\n",
       "      <td>0</td>\n",
       "      <td>0</td>\n",
       "      <td>0</td>\n",
       "    </tr>\n",
       "    <tr>\n",
       "      <th>1</th>\n",
       "      <td>0</td>\n",
       "      <td>0</td>\n",
       "      <td>0</td>\n",
       "      <td>0</td>\n",
       "      <td>0</td>\n",
       "      <td>0</td>\n",
       "      <td>0</td>\n",
       "      <td>0</td>\n",
       "      <td>0</td>\n",
       "      <td>0</td>\n",
       "      <td>...</td>\n",
       "      <td>0</td>\n",
       "      <td>0</td>\n",
       "      <td>0</td>\n",
       "      <td>0</td>\n",
       "      <td>0</td>\n",
       "      <td>0</td>\n",
       "      <td>0</td>\n",
       "      <td>0</td>\n",
       "      <td>0</td>\n",
       "      <td>0</td>\n",
       "    </tr>\n",
       "    <tr>\n",
       "      <th>2</th>\n",
       "      <td>0</td>\n",
       "      <td>0</td>\n",
       "      <td>0</td>\n",
       "      <td>0</td>\n",
       "      <td>0</td>\n",
       "      <td>0</td>\n",
       "      <td>0</td>\n",
       "      <td>0</td>\n",
       "      <td>0</td>\n",
       "      <td>0</td>\n",
       "      <td>...</td>\n",
       "      <td>0</td>\n",
       "      <td>0</td>\n",
       "      <td>0</td>\n",
       "      <td>0</td>\n",
       "      <td>0</td>\n",
       "      <td>0</td>\n",
       "      <td>0</td>\n",
       "      <td>0</td>\n",
       "      <td>0</td>\n",
       "      <td>0</td>\n",
       "    </tr>\n",
       "    <tr>\n",
       "      <th>3</th>\n",
       "      <td>0</td>\n",
       "      <td>0</td>\n",
       "      <td>0</td>\n",
       "      <td>0</td>\n",
       "      <td>0</td>\n",
       "      <td>0</td>\n",
       "      <td>0</td>\n",
       "      <td>0</td>\n",
       "      <td>0</td>\n",
       "      <td>0</td>\n",
       "      <td>...</td>\n",
       "      <td>0</td>\n",
       "      <td>0</td>\n",
       "      <td>0</td>\n",
       "      <td>0</td>\n",
       "      <td>0</td>\n",
       "      <td>0</td>\n",
       "      <td>0</td>\n",
       "      <td>0</td>\n",
       "      <td>0</td>\n",
       "      <td>0</td>\n",
       "    </tr>\n",
       "    <tr>\n",
       "      <th>4</th>\n",
       "      <td>0</td>\n",
       "      <td>0</td>\n",
       "      <td>0</td>\n",
       "      <td>0</td>\n",
       "      <td>0</td>\n",
       "      <td>0</td>\n",
       "      <td>0</td>\n",
       "      <td>0</td>\n",
       "      <td>0</td>\n",
       "      <td>0</td>\n",
       "      <td>...</td>\n",
       "      <td>0</td>\n",
       "      <td>0</td>\n",
       "      <td>0</td>\n",
       "      <td>0</td>\n",
       "      <td>0</td>\n",
       "      <td>0</td>\n",
       "      <td>0</td>\n",
       "      <td>0</td>\n",
       "      <td>0</td>\n",
       "      <td>0</td>\n",
       "    </tr>\n",
       "    <tr>\n",
       "      <th>...</th>\n",
       "      <td>...</td>\n",
       "      <td>...</td>\n",
       "      <td>...</td>\n",
       "      <td>...</td>\n",
       "      <td>...</td>\n",
       "      <td>...</td>\n",
       "      <td>...</td>\n",
       "      <td>...</td>\n",
       "      <td>...</td>\n",
       "      <td>...</td>\n",
       "      <td>...</td>\n",
       "      <td>...</td>\n",
       "      <td>...</td>\n",
       "      <td>...</td>\n",
       "      <td>...</td>\n",
       "      <td>...</td>\n",
       "      <td>...</td>\n",
       "      <td>...</td>\n",
       "      <td>...</td>\n",
       "      <td>...</td>\n",
       "      <td>...</td>\n",
       "    </tr>\n",
       "    <tr>\n",
       "      <th>299995</th>\n",
       "      <td>0</td>\n",
       "      <td>0</td>\n",
       "      <td>0</td>\n",
       "      <td>0</td>\n",
       "      <td>0</td>\n",
       "      <td>0</td>\n",
       "      <td>0</td>\n",
       "      <td>0</td>\n",
       "      <td>0</td>\n",
       "      <td>0</td>\n",
       "      <td>...</td>\n",
       "      <td>0</td>\n",
       "      <td>0</td>\n",
       "      <td>0</td>\n",
       "      <td>0</td>\n",
       "      <td>0</td>\n",
       "      <td>0</td>\n",
       "      <td>0</td>\n",
       "      <td>0</td>\n",
       "      <td>0</td>\n",
       "      <td>0</td>\n",
       "    </tr>\n",
       "    <tr>\n",
       "      <th>299996</th>\n",
       "      <td>0</td>\n",
       "      <td>0</td>\n",
       "      <td>0</td>\n",
       "      <td>0</td>\n",
       "      <td>0</td>\n",
       "      <td>0</td>\n",
       "      <td>0</td>\n",
       "      <td>0</td>\n",
       "      <td>0</td>\n",
       "      <td>0</td>\n",
       "      <td>...</td>\n",
       "      <td>0</td>\n",
       "      <td>0</td>\n",
       "      <td>0</td>\n",
       "      <td>0</td>\n",
       "      <td>0</td>\n",
       "      <td>0</td>\n",
       "      <td>0</td>\n",
       "      <td>0</td>\n",
       "      <td>0</td>\n",
       "      <td>0</td>\n",
       "    </tr>\n",
       "    <tr>\n",
       "      <th>299997</th>\n",
       "      <td>0</td>\n",
       "      <td>0</td>\n",
       "      <td>0</td>\n",
       "      <td>0</td>\n",
       "      <td>0</td>\n",
       "      <td>0</td>\n",
       "      <td>0</td>\n",
       "      <td>0</td>\n",
       "      <td>0</td>\n",
       "      <td>0</td>\n",
       "      <td>...</td>\n",
       "      <td>0</td>\n",
       "      <td>0</td>\n",
       "      <td>0</td>\n",
       "      <td>0</td>\n",
       "      <td>0</td>\n",
       "      <td>0</td>\n",
       "      <td>0</td>\n",
       "      <td>0</td>\n",
       "      <td>0</td>\n",
       "      <td>0</td>\n",
       "    </tr>\n",
       "    <tr>\n",
       "      <th>299998</th>\n",
       "      <td>0</td>\n",
       "      <td>0</td>\n",
       "      <td>0</td>\n",
       "      <td>0</td>\n",
       "      <td>0</td>\n",
       "      <td>0</td>\n",
       "      <td>0</td>\n",
       "      <td>0</td>\n",
       "      <td>0</td>\n",
       "      <td>0</td>\n",
       "      <td>...</td>\n",
       "      <td>0</td>\n",
       "      <td>0</td>\n",
       "      <td>0</td>\n",
       "      <td>0</td>\n",
       "      <td>0</td>\n",
       "      <td>0</td>\n",
       "      <td>0</td>\n",
       "      <td>0</td>\n",
       "      <td>0</td>\n",
       "      <td>0</td>\n",
       "    </tr>\n",
       "    <tr>\n",
       "      <th>299999</th>\n",
       "      <td>0</td>\n",
       "      <td>0</td>\n",
       "      <td>0</td>\n",
       "      <td>0</td>\n",
       "      <td>0</td>\n",
       "      <td>0</td>\n",
       "      <td>0</td>\n",
       "      <td>0</td>\n",
       "      <td>0</td>\n",
       "      <td>0</td>\n",
       "      <td>...</td>\n",
       "      <td>0</td>\n",
       "      <td>0</td>\n",
       "      <td>0</td>\n",
       "      <td>0</td>\n",
       "      <td>0</td>\n",
       "      <td>0</td>\n",
       "      <td>0</td>\n",
       "      <td>0</td>\n",
       "      <td>0</td>\n",
       "      <td>0</td>\n",
       "    </tr>\n",
       "  </tbody>\n",
       "</table>\n",
       "<p>300000 rows × 784 columns</p>\n",
       "</div>"
      ],
      "text/plain": [
       "        pixel1  pixel2  pixel3  pixel4  pixel5  pixel6  pixel7  pixel8  \\\n",
       "0            0       0       0       0       0       0       0       0   \n",
       "1            0       0       0       0       0       0       0       0   \n",
       "2            0       0       0       0       0       0       0       0   \n",
       "3            0       0       0       0       0       0       0       0   \n",
       "4            0       0       0       0       0       0       0       0   \n",
       "...        ...     ...     ...     ...     ...     ...     ...     ...   \n",
       "299995       0       0       0       0       0       0       0       0   \n",
       "299996       0       0       0       0       0       0       0       0   \n",
       "299997       0       0       0       0       0       0       0       0   \n",
       "299998       0       0       0       0       0       0       0       0   \n",
       "299999       0       0       0       0       0       0       0       0   \n",
       "\n",
       "        pixel9  pixel10  ...  pixel775  pixel776  pixel777  pixel778  \\\n",
       "0            0        0  ...         0         0         0         0   \n",
       "1            0        0  ...         0         0         0         0   \n",
       "2            0        0  ...         0         0         0         0   \n",
       "3            0        0  ...         0         0         0         0   \n",
       "4            0        0  ...         0         0         0         0   \n",
       "...        ...      ...  ...       ...       ...       ...       ...   \n",
       "299995       0        0  ...         0         0         0         0   \n",
       "299996       0        0  ...         0         0         0         0   \n",
       "299997       0        0  ...         0         0         0         0   \n",
       "299998       0        0  ...         0         0         0         0   \n",
       "299999       0        0  ...         0         0         0         0   \n",
       "\n",
       "        pixel779  pixel780  pixel781  pixel782  pixel783  pixel784  \n",
       "0              0         0         0         0         0         0  \n",
       "1              0         0         0         0         0         0  \n",
       "2              0         0         0         0         0         0  \n",
       "3              0         0         0         0         0         0  \n",
       "4              0         0         0         0         0         0  \n",
       "...          ...       ...       ...       ...       ...       ...  \n",
       "299995         0         0         0         0         0         0  \n",
       "299996         0         0         0         0         0         0  \n",
       "299997         0         0         0         0         0         0  \n",
       "299998         0         0         0         0         0         0  \n",
       "299999         0         0         0         0         0         0  \n",
       "\n",
       "[300000 rows x 784 columns]"
      ]
     },
     "execution_count": 31,
     "metadata": {},
     "output_type": "execute_result"
    }
   ],
   "source": [
    "X_train_aug"
   ]
  },
  {
   "cell_type": "code",
   "execution_count": 32,
   "id": "825ef1e6",
   "metadata": {},
   "outputs": [],
   "source": [
    "# Constructing the labels for the augmented training set\n",
    "\n",
    "y_train_aug = pd.concat([y_train, y_train, y_train, y_train, y_train], ignore_index=True)"
   ]
  },
  {
   "cell_type": "code",
   "execution_count": 33,
   "id": "6e883454",
   "metadata": {
    "scrolled": true
   },
   "outputs": [
    {
     "name": "stderr",
     "output_type": "stream",
     "text": [
      "[Parallel(n_jobs=1)]: Using backend SequentialBackend with 1 concurrent workers.\n"
     ]
    },
    {
     "name": "stdout",
     "output_type": "stream",
     "text": [
      "[CV] END .................................................... total time=19.3min\n"
     ]
    },
    {
     "name": "stderr",
     "output_type": "stream",
     "text": [
      "[Parallel(n_jobs=1)]: Done   1 out of   1 | elapsed: 19.3min remaining:    0.0s\n"
     ]
    },
    {
     "name": "stdout",
     "output_type": "stream",
     "text": [
      "[CV] END .................................................... total time=19.2min\n",
      "[CV] END .................................................... total time=18.7min\n",
      "[0.98244 0.96956 0.97363]\n"
     ]
    },
    {
     "name": "stderr",
     "output_type": "stream",
     "text": [
      "[Parallel(n_jobs=1)]: Done   3 out of   3 | elapsed: 57.3min finished\n"
     ]
    }
   ],
   "source": [
    "# KNeighborsClassifier: Cross Validation Score\n",
    "\n",
    "from sklearn.neighbors import KNeighborsClassifier\n",
    "from sklearn.model_selection import cross_val_score\n",
    "\n",
    "knn_final = KNeighborsClassifier(weights='distance', n_neighbors=5, leaf_size=30)\n",
    "scores_knn_final = cross_val_score(knn_final, X_train_aug, y_train_aug, cv=3, verbose=2)\n",
    "print(scores_knn_final)"
   ]
  },
  {
   "cell_type": "code",
   "execution_count": 34,
   "id": "2cd86001",
   "metadata": {},
   "outputs": [
    {
     "name": "stdout",
     "output_type": "stream",
     "text": [
      "Accuracy on the Test data: 0.9766\n"
     ]
    }
   ],
   "source": [
    "# Prediction with Data Augmentation\n",
    "\n",
    "knn_final.fit(X_train_aug, y_train_aug)\n",
    "y_pred = knn_final.predict(X_test)\n",
    "\n",
    "from sklearn.metrics import accuracy_score\n",
    "print('Accuracy on the Test data:', accuracy_score(y_test, y_pred))"
   ]
  },
  {
   "cell_type": "markdown",
   "id": "99a7efde",
   "metadata": {},
   "source": [
    "## Stacking Models"
   ]
  },
  {
   "cell_type": "code",
   "execution_count": 35,
   "id": "00cae3fb",
   "metadata": {},
   "outputs": [],
   "source": [
    "from sklearn.base import BaseEstimator\n",
    "from sklearn.model_selection import train_test_split\n",
    "\n",
    "class model_stack(BaseEstimator):\n",
    "    \n",
    "    def fit(self, X, y):\n",
    "        X_1, X_2, y_1, y_2 = train_test_split(X, y, test_size=0.4)\n",
    "        y_pred = []\n",
    "        \n",
    "        # Layer 1: Hidden Layer\n",
    "        self.rnd_clf = RandomForestClassifier()\n",
    "        self.rnd_clf.fit(X_1, y_1)\n",
    "        y_pred.append(self.rnd_clf.predict(X_2))\n",
    "\n",
    "        self.knn_clf = KNeighborsClassifier()\n",
    "        self.knn_clf.fit(X_1, y_1)\n",
    "        y_pred.append(self.knn_clf.predict(X_2))\n",
    "\n",
    "        self.sgd_clf = SGDClassifier(alpha=0.1, max_iter=200)\n",
    "        self.sgd_clf.fit(X_1, y_1)\n",
    "        y_pred.append(self.sgd_clf.predict(X_2))\n",
    "        \n",
    "        # Layer 2: Output Layer\n",
    "        self.y_pred = pd.DataFrame(np.array(y_pred).T)\n",
    "        y_2 = np.array(y_2).reshape(1,-1)[0]\n",
    "\n",
    "        self.rnd_output = RandomForestClassifier()\n",
    "        self.rnd_output.fit(self.y_pred, y_2)\n",
    "        \n",
    "    def predict(self, X_test):\n",
    "        layer1_output = []\n",
    "        layer1_output.append(self.rnd_clf.predict(X_test))\n",
    "        layer1_output.append(self.knn_clf.predict(X_test))\n",
    "        layer1_output.append(self.sgd_clf.predict(X_test))\n",
    "        \n",
    "        layer2_input = pd.DataFrame(np.array(layer1_output).T)\n",
    "        output = self.rnd_output.predict(layer2_input)\n",
    "        \n",
    "        return output"
   ]
  },
  {
   "cell_type": "markdown",
   "id": "08d70d10",
   "metadata": {},
   "source": [
    "## Final Results"
   ]
  },
  {
   "cell_type": "code",
   "execution_count": 36,
   "id": "11f9ae94",
   "metadata": {},
   "outputs": [
    {
     "name": "stdout",
     "output_type": "stream",
     "text": [
      "0.9792\n"
     ]
    }
   ],
   "source": [
    "stack = model_stack()\n",
    "stack.fit(X_train_aug, y_train_aug)\n",
    "\n",
    "y_pred = stack.predict(X_test)\n",
    "print(accuracy_score(y_test, y_pred))"
   ]
  }
 ],
 "metadata": {
  "kernelspec": {
   "display_name": "Python 3",
   "language": "python",
   "name": "python3"
  },
  "language_info": {
   "codemirror_mode": {
    "name": "ipython",
    "version": 3
   },
   "file_extension": ".py",
   "mimetype": "text/x-python",
   "name": "python",
   "nbconvert_exporter": "python",
   "pygments_lexer": "ipython3",
   "version": "3.8.8"
  }
 },
 "nbformat": 4,
 "nbformat_minor": 5
}
